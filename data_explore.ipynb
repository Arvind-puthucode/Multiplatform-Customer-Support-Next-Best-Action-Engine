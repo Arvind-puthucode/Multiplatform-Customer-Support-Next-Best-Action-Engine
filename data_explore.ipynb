{
 "cells": [
  {
   "metadata": {},
   "cell_type": "markdown",
   "source": "## import data",
   "id": "fb356d1ec7c665c7"
  },
  {
   "metadata": {},
   "cell_type": "code",
   "outputs": [],
   "execution_count": null,
   "source": [
    "import kagglehub\n",
    "\n",
    "# Download latest version\n",
    "path = kagglehub.dataset_download(\"thoughtvector/customer-support-on-twitter\")\n",
    "\n",
    "print(\"Path to dataset files:\", path)"
   ],
   "id": "65b46a080cddc029"
  },
  {
   "cell_type": "code",
   "execution_count": null,
   "id": "248b6e2b",
   "metadata": {},
   "outputs": [],
   "source": [
    "import kagglehub\n",
    "\n",
    "# Download latest version\n",
    "path = kagglehub.dataset_download(\"minhaozhang1/reddit-mbti-dataset\")\n",
    "\n",
    "print(\"Path to dataset files:\", path)"
   ]
  },
  {
   "cell_type": "code",
   "execution_count": 27,
   "id": "cea37c26",
   "metadata": {},
   "outputs": [],
   "source": [
    "# move file from /home/arvind/.cache/kagglehub/datasets/thoughtvector/customer-support-on-twitter/versions/10 to /home/arvind/personal-projects/riverline/backend/data\n",
    "!mv /home/arvind/.cache/kagglehub/datasets/thoughtvector/customer-support-on-twitter/versions/10 /home/arvind/personal-projects/riverline/backend/data\n"
   ]
  },
  {
   "cell_type": "code",
   "execution_count": 37,
   "id": "435c49bb",
   "metadata": {},
   "outputs": [],
   "source": [
    "!mv /home/arvind/.cache/kagglehub/datasets/minhaozhang1/reddit-mbti-dataset/versions/3 /home/arvind/personal-projects/riverline/backend/data"
   ]
  },
  {
   "cell_type": "markdown",
   "id": "96f0bb0d",
   "metadata": {},
   "source": [
    "# Data Exploration"
   ]
  },
  {
   "cell_type": "code",
   "execution_count": 28,
   "id": "c9aa49d2",
   "metadata": {},
   "outputs": [],
   "source": "df =pd.read_csv(r'/data/10/twcs/twcs.csv')"
  },
  {
   "cell_type": "code",
   "execution_count": 29,
   "id": "cd73292a",
   "metadata": {},
   "outputs": [
    {
     "data": {
      "text/html": [
       "<div>\n",
       "<style scoped>\n",
       "    .dataframe tbody tr th:only-of-type {\n",
       "        vertical-align: middle;\n",
       "    }\n",
       "\n",
       "    .dataframe tbody tr th {\n",
       "        vertical-align: top;\n",
       "    }\n",
       "\n",
       "    .dataframe thead th {\n",
       "        text-align: right;\n",
       "    }\n",
       "</style>\n",
       "<table border=\"1\" class=\"dataframe\">\n",
       "  <thead>\n",
       "    <tr style=\"text-align: right;\">\n",
       "      <th></th>\n",
       "      <th>tweet_id</th>\n",
       "      <th>author_id</th>\n",
       "      <th>inbound</th>\n",
       "      <th>created_at</th>\n",
       "      <th>text</th>\n",
       "      <th>response_tweet_id</th>\n",
       "      <th>in_response_to_tweet_id</th>\n",
       "    </tr>\n",
       "  </thead>\n",
       "  <tbody>\n",
       "    <tr>\n",
       "      <th>0</th>\n",
       "      <td>1</td>\n",
       "      <td>sprintcare</td>\n",
       "      <td>False</td>\n",
       "      <td>Tue Oct 31 22:10:47 +0000 2017</td>\n",
       "      <td>@115712 I understand. I would like to assist y...</td>\n",
       "      <td>2</td>\n",
       "      <td>3.0</td>\n",
       "    </tr>\n",
       "    <tr>\n",
       "      <th>1</th>\n",
       "      <td>2</td>\n",
       "      <td>115712</td>\n",
       "      <td>True</td>\n",
       "      <td>Tue Oct 31 22:11:45 +0000 2017</td>\n",
       "      <td>@sprintcare and how do you propose we do that</td>\n",
       "      <td>NaN</td>\n",
       "      <td>1.0</td>\n",
       "    </tr>\n",
       "    <tr>\n",
       "      <th>2</th>\n",
       "      <td>3</td>\n",
       "      <td>115712</td>\n",
       "      <td>True</td>\n",
       "      <td>Tue Oct 31 22:08:27 +0000 2017</td>\n",
       "      <td>@sprintcare I have sent several private messag...</td>\n",
       "      <td>1</td>\n",
       "      <td>4.0</td>\n",
       "    </tr>\n",
       "    <tr>\n",
       "      <th>3</th>\n",
       "      <td>4</td>\n",
       "      <td>sprintcare</td>\n",
       "      <td>False</td>\n",
       "      <td>Tue Oct 31 21:54:49 +0000 2017</td>\n",
       "      <td>@115712 Please send us a Private Message so th...</td>\n",
       "      <td>3</td>\n",
       "      <td>5.0</td>\n",
       "    </tr>\n",
       "    <tr>\n",
       "      <th>4</th>\n",
       "      <td>5</td>\n",
       "      <td>115712</td>\n",
       "      <td>True</td>\n",
       "      <td>Tue Oct 31 21:49:35 +0000 2017</td>\n",
       "      <td>@sprintcare I did.</td>\n",
       "      <td>4</td>\n",
       "      <td>6.0</td>\n",
       "    </tr>\n",
       "  </tbody>\n",
       "</table>\n",
       "</div>"
      ],
      "text/plain": [
       "   tweet_id   author_id  inbound                      created_at  \\\n",
       "0         1  sprintcare    False  Tue Oct 31 22:10:47 +0000 2017   \n",
       "1         2      115712     True  Tue Oct 31 22:11:45 +0000 2017   \n",
       "2         3      115712     True  Tue Oct 31 22:08:27 +0000 2017   \n",
       "3         4  sprintcare    False  Tue Oct 31 21:54:49 +0000 2017   \n",
       "4         5      115712     True  Tue Oct 31 21:49:35 +0000 2017   \n",
       "\n",
       "                                                text response_tweet_id  \\\n",
       "0  @115712 I understand. I would like to assist y...                 2   \n",
       "1      @sprintcare and how do you propose we do that               NaN   \n",
       "2  @sprintcare I have sent several private messag...                 1   \n",
       "3  @115712 Please send us a Private Message so th...                 3   \n",
       "4                                 @sprintcare I did.                 4   \n",
       "\n",
       "   in_response_to_tweet_id  \n",
       "0                      3.0  \n",
       "1                      1.0  \n",
       "2                      4.0  \n",
       "3                      5.0  \n",
       "4                      6.0  "
      ]
     },
     "execution_count": 29,
     "metadata": {},
     "output_type": "execute_result"
    }
   ],
   "source": [
    "df.head()"
   ]
  },
  {
   "cell_type": "code",
   "execution_count": 30,
   "id": "10512fda",
   "metadata": {},
   "outputs": [
    {
     "data": {
      "text/plain": [
       "Index(['tweet_id', 'author_id', 'inbound', 'created_at', 'text',\n",
       "       'response_tweet_id', 'in_response_to_tweet_id'],\n",
       "      dtype='object')"
      ]
     },
     "execution_count": 30,
     "metadata": {},
     "output_type": "execute_result"
    }
   ],
   "source": [
    "df.columns"
   ]
  },
  {
   "cell_type": "code",
   "execution_count": 35,
   "id": "e490c1da",
   "metadata": {},
   "outputs": [
    {
     "data": {
      "text/plain": [
       "0       @115712 I understand. I would like to assist you. We would need to get you into a private secured link to further assist.\n",
       "1                                                                                   @sprintcare and how do you propose we do that\n",
       "2                                              @sprintcare I have sent several private messages and no one is responding as usual\n",
       "3    @115712 Please send us a Private Message so that we can further assist you. Just click ‘Message’ at the top of your profile.\n",
       "4                                                                                                              @sprintcare I did.\n",
       "Name: text, dtype: object"
      ]
     },
     "execution_count": 35,
     "metadata": {},
     "output_type": "execute_result"
    }
   ],
   "source": [
    "# get first 5 rows of text column fully\n",
    "pd.set_option('display.max_colwidth', None)\n",
    "df[\"text\"][:5]\n"
   ]
  },
  {
   "cell_type": "code",
   "execution_count": 39,
   "id": "95077bc2",
   "metadata": {},
   "outputs": [],
   "source": [
    "unique_author_df = pd.read_csv('data/3/unique_author.csv')\n",
    "reddit_df = pd.read_csv('data/3/reddit_post.csv')"
   ]
  },
  {
   "cell_type": "code",
   "execution_count": 40,
   "id": "1bb32e9c",
   "metadata": {},
   "outputs": [
    {
     "data": {
      "text/html": [
       "<div>\n",
       "<style scoped>\n",
       "    .dataframe tbody tr th:only-of-type {\n",
       "        vertical-align: middle;\n",
       "    }\n",
       "\n",
       "    .dataframe tbody tr th {\n",
       "        vertical-align: top;\n",
       "    }\n",
       "\n",
       "    .dataframe thead th {\n",
       "        text-align: right;\n",
       "    }\n",
       "</style>\n",
       "<table border=\"1\" class=\"dataframe\">\n",
       "  <thead>\n",
       "    <tr style=\"text-align: right;\">\n",
       "      <th></th>\n",
       "      <th>author</th>\n",
       "      <th>mbti</th>\n",
       "    </tr>\n",
       "  </thead>\n",
       "  <tbody>\n",
       "    <tr>\n",
       "      <th>0</th>\n",
       "      <td>LadyBanterbury</td>\n",
       "      <td>INFP</td>\n",
       "    </tr>\n",
       "    <tr>\n",
       "      <th>1</th>\n",
       "      <td>Finarin</td>\n",
       "      <td>INTP</td>\n",
       "    </tr>\n",
       "    <tr>\n",
       "      <th>2</th>\n",
       "      <td>xanplease</td>\n",
       "      <td>INFP</td>\n",
       "    </tr>\n",
       "    <tr>\n",
       "      <th>3</th>\n",
       "      <td>HeirToGallifrey</td>\n",
       "      <td>ENTP</td>\n",
       "    </tr>\n",
       "    <tr>\n",
       "      <th>4</th>\n",
       "      <td>ElementalVoltage</td>\n",
       "      <td>INTP</td>\n",
       "    </tr>\n",
       "  </tbody>\n",
       "</table>\n",
       "</div>"
      ],
      "text/plain": [
       "             author  mbti\n",
       "0    LadyBanterbury  INFP\n",
       "1           Finarin  INTP\n",
       "2         xanplease  INFP\n",
       "3   HeirToGallifrey  ENTP\n",
       "4  ElementalVoltage  INTP"
      ]
     },
     "execution_count": 40,
     "metadata": {},
     "output_type": "execute_result"
    }
   ],
   "source": [
    "unique_author_df.head()"
   ]
  },
  {
   "cell_type": "code",
   "execution_count": 41,
   "id": "0d94f6f1",
   "metadata": {},
   "outputs": [
    {
     "data": {
      "text/html": [
       "<div>\n",
       "<style scoped>\n",
       "    .dataframe tbody tr th:only-of-type {\n",
       "        vertical-align: middle;\n",
       "    }\n",
       "\n",
       "    .dataframe tbody tr th {\n",
       "        vertical-align: top;\n",
       "    }\n",
       "\n",
       "    .dataframe thead th {\n",
       "        text-align: right;\n",
       "    }\n",
       "</style>\n",
       "<table border=\"1\" class=\"dataframe\">\n",
       "  <thead>\n",
       "    <tr style=\"text-align: right;\">\n",
       "      <th></th>\n",
       "      <th>author</th>\n",
       "      <th>body</th>\n",
       "      <th>mbti</th>\n",
       "    </tr>\n",
       "  </thead>\n",
       "  <tbody>\n",
       "    <tr>\n",
       "      <th>0</th>\n",
       "      <td>LadyBanterbury</td>\n",
       "      <td>lol thats why i left</td>\n",
       "      <td>INFP</td>\n",
       "    </tr>\n",
       "    <tr>\n",
       "      <th>1</th>\n",
       "      <td>Finarin</td>\n",
       "      <td>i was just about to post i try telling people all the time that im always joking unless i say i am being serious right now and they still dont catch on!  but here youve already figured out the secret  its like you know me</td>\n",
       "      <td>INTP</td>\n",
       "    </tr>\n",
       "    <tr>\n",
       "      <th>2</th>\n",
       "      <td>xanplease</td>\n",
       "      <td>my first thought was pepsi or something probably not alcohol</td>\n",
       "      <td>INFP</td>\n",
       "    </tr>\n",
       "    <tr>\n",
       "      <th>3</th>\n",
       "      <td>HeirToGallifrey</td>\n",
       "      <td>not if the formula is something like every time it says do add 5 bpm then it would be arithmetic</td>\n",
       "      <td>ENTP</td>\n",
       "    </tr>\n",
       "    <tr>\n",
       "      <th>4</th>\n",
       "      <td>ElementalVoltage</td>\n",
       "      <td>well i wouldnt know but i think theres a lot of potential to it if the technology develops in image awareness we can have cameras that can detect when a child is drowning in a swimming pool search for victims in a natural calamity have cars detect other vehicles to prevent car accidents and even more useful stuff</td>\n",
       "      <td>INTP</td>\n",
       "    </tr>\n",
       "  </tbody>\n",
       "</table>\n",
       "</div>"
      ],
      "text/plain": [
       "             author  \\\n",
       "0    LadyBanterbury   \n",
       "1           Finarin   \n",
       "2         xanplease   \n",
       "3   HeirToGallifrey   \n",
       "4  ElementalVoltage   \n",
       "\n",
       "                                                                                                                                                                                                                                                                                                                           body  \\\n",
       "0                                                                                                                                                                                                                                                                                                         lol thats why i left    \n",
       "1                                                                                                 i was just about to post i try telling people all the time that im always joking unless i say i am being serious right now and they still dont catch on!  but here youve already figured out the secret  its like you know me   \n",
       "2                                                                                                                                                                                                                                                                  my first thought was pepsi or something probably not alcohol   \n",
       "3                                                                                                                                                                                                                              not if the formula is something like every time it says do add 5 bpm then it would be arithmetic   \n",
       "4  well i wouldnt know but i think theres a lot of potential to it if the technology develops in image awareness we can have cameras that can detect when a child is drowning in a swimming pool search for victims in a natural calamity have cars detect other vehicles to prevent car accidents and even more useful stuff     \n",
       "\n",
       "   mbti  \n",
       "0  INFP  \n",
       "1  INTP  \n",
       "2  INFP  \n",
       "3  ENTP  \n",
       "4  INTP  "
      ]
     },
     "execution_count": 41,
     "metadata": {},
     "output_type": "execute_result"
    }
   ],
   "source": [
    "reddit_df.head()"
   ]
  },
  {
   "cell_type": "code",
   "execution_count": 45,
   "id": "03b56834",
   "metadata": {},
   "outputs": [
    {
     "data": {
      "text/html": [
       "<div>\n",
       "<style scoped>\n",
       "    .dataframe tbody tr th:only-of-type {\n",
       "        vertical-align: middle;\n",
       "    }\n",
       "\n",
       "    .dataframe tbody tr th {\n",
       "        vertical-align: top;\n",
       "    }\n",
       "\n",
       "    .dataframe thead th {\n",
       "        text-align: right;\n",
       "    }\n",
       "</style>\n",
       "<table border=\"1\" class=\"dataframe\">\n",
       "  <thead>\n",
       "    <tr style=\"text-align: right;\">\n",
       "      <th></th>\n",
       "      <th>author</th>\n",
       "      <th>mbti</th>\n",
       "    </tr>\n",
       "  </thead>\n",
       "  <tbody>\n",
       "    <tr>\n",
       "      <th>5609</th>\n",
       "      <td>820131</td>\n",
       "      <td>ESTP</td>\n",
       "    </tr>\n",
       "  </tbody>\n",
       "</table>\n",
       "</div>"
      ],
      "text/plain": [
       "      author  mbti\n",
       "5609  820131  ESTP"
      ]
     },
     "execution_count": 45,
     "metadata": {},
     "output_type": "execute_result"
    }
   ],
   "source": [
    "# see if author of unique_author_df is present in df if so list them\n",
    "\n",
    "unique_author_df[unique_author_df[\"author\"].isin(df[\"author_id\"])].head()\n"
   ]
  },
  {
   "cell_type": "code",
   "execution_count": 49,
   "id": "c142216e",
   "metadata": {},
   "outputs": [
    {
     "data": {
      "text/html": [
       "<div>\n",
       "<style scoped>\n",
       "    .dataframe tbody tr th:only-of-type {\n",
       "        vertical-align: middle;\n",
       "    }\n",
       "\n",
       "    .dataframe tbody tr th {\n",
       "        vertical-align: top;\n",
       "    }\n",
       "\n",
       "    .dataframe thead th {\n",
       "        text-align: right;\n",
       "    }\n",
       "</style>\n",
       "<table border=\"1\" class=\"dataframe\">\n",
       "  <thead>\n",
       "    <tr style=\"text-align: right;\">\n",
       "      <th></th>\n",
       "      <th>author</th>\n",
       "      <th>body</th>\n",
       "      <th>mbti</th>\n",
       "    </tr>\n",
       "  </thead>\n",
       "  <tbody>\n",
       "    <tr>\n",
       "      <th>41652</th>\n",
       "      <td>820131</td>\n",
       "      <td>this looks freaking awesome! kudos</td>\n",
       "      <td>ESTP</td>\n",
       "    </tr>\n",
       "    <tr>\n",
       "      <th>105501</th>\n",
       "      <td>820131</td>\n",
       "      <td>if you ever try please let me know! would love to hear about your experience d</td>\n",
       "      <td>ESTP</td>\n",
       "    </tr>\n",
       "    <tr>\n",
       "      <th>110497</th>\n",
       "      <td>820131</td>\n",
       "      <td>i was hoping for someone to cut the strings</td>\n",
       "      <td>ESTP</td>\n",
       "    </tr>\n",
       "    <tr>\n",
       "      <th>119177</th>\n",
       "      <td>820131</td>\n",
       "      <td>bored on a wednesday night peace? link gone!</td>\n",
       "      <td>ESTP</td>\n",
       "    </tr>\n",
       "    <tr>\n",
       "      <th>217609</th>\n",
       "      <td>820131</td>\n",
       "      <td>i put my retainers aside for 23 weeks when i started wearing them again it felt like i had braces on all over again and the pain lasted for 2 full weeks</td>\n",
       "      <td>ESTP</td>\n",
       "    </tr>\n",
       "    <tr>\n",
       "      <th>...</th>\n",
       "      <td>...</td>\n",
       "      <td>...</td>\n",
       "      <td>...</td>\n",
       "    </tr>\n",
       "    <tr>\n",
       "      <th>12721346</th>\n",
       "      <td>820131</td>\n",
       "      <td>most people avoid tasting it by trying to throw it straight down their throat avoiding the tongue as much as possible</td>\n",
       "      <td>ESTP</td>\n",
       "    </tr>\n",
       "    <tr>\n",
       "      <th>12878532</th>\n",
       "      <td>820131</td>\n",
       "      <td>this got dark pretty fast</td>\n",
       "      <td>ESTP</td>\n",
       "    </tr>\n",
       "    <tr>\n",
       "      <th>12890957</th>\n",
       "      <td>820131</td>\n",
       "      <td>i just pulled this from  on her thread here  gt some ingredients also simply irritate otherwise normal skin and dry it out causing a vicious cycle of moisturization gt drier skin gt moisturization  i have been using good alcohols for my skin for over 2 years now and only just now that ive tried the belif cream where alcohol denat was present is when my skin started to burn  of course different skin types can handle it more than others but well knowing that alcohol denat is a bad alcohol im wondering if others have experienced the same burning effect</td>\n",
       "      <td>ESTP</td>\n",
       "    </tr>\n",
       "    <tr>\n",
       "      <th>12924264</th>\n",
       "      <td>820131</td>\n",
       "      <td>thats at planet fitness</td>\n",
       "      <td>ESTP</td>\n",
       "    </tr>\n",
       "    <tr>\n",
       "      <th>13009878</th>\n",
       "      <td>820131</td>\n",
       "      <td>pretty popular here in s california since last week</td>\n",
       "      <td>ESTP</td>\n",
       "    </tr>\n",
       "  </tbody>\n",
       "</table>\n",
       "<p>272 rows × 3 columns</p>\n",
       "</div>"
      ],
      "text/plain": [
       "          author  \\\n",
       "41652     820131   \n",
       "105501    820131   \n",
       "110497    820131   \n",
       "119177    820131   \n",
       "217609    820131   \n",
       "...          ...   \n",
       "12721346  820131   \n",
       "12878532  820131   \n",
       "12890957  820131   \n",
       "12924264  820131   \n",
       "13009878  820131   \n",
       "\n",
       "                                                                                                                                                                                                                                                                                                                                                                                                                                                                                                                                                                                 body  \\\n",
       "41652                                                                                                                                                                                                                                                                                                                                                                                                                                                                                                                                              this looks freaking awesome! kudos   \n",
       "105501                                                                                                                                                                                                                                                                                                                                                                                                                                                                                                 if you ever try please let me know! would love to hear about your experience d   \n",
       "110497                                                                                                                                                                                                                                                                                                                                                                                                                                                                                                                                    i was hoping for someone to cut the strings   \n",
       "119177                                                                                                                                                                                                                                                                                                                                                                                                                                                                                                                                   bored on a wednesday night peace? link gone!   \n",
       "217609                                                                                                                                                                                                                                                                                                                                                                                                                       i put my retainers aside for 23 weeks when i started wearing them again it felt like i had braces on all over again and the pain lasted for 2 full weeks   \n",
       "...                                                                                                                                                                                                                                                                                                                                                                                                                                                                                                                                                                               ...   \n",
       "12721346                                                                                                                                                                                                                                                                                                                                                                                                                                                        most people avoid tasting it by trying to throw it straight down their throat avoiding the tongue as much as possible   \n",
       "12878532                                                                                                                                                                                                                                                                                                                                                                                                                                                                                                                                                    this got dark pretty fast   \n",
       "12890957  i just pulled this from  on her thread here  gt some ingredients also simply irritate otherwise normal skin and dry it out causing a vicious cycle of moisturization gt drier skin gt moisturization  i have been using good alcohols for my skin for over 2 years now and only just now that ive tried the belif cream where alcohol denat was present is when my skin started to burn  of course different skin types can handle it more than others but well knowing that alcohol denat is a bad alcohol im wondering if others have experienced the same burning effect   \n",
       "12924264                                                                                                                                                                                                                                                                                                                                                                                                                                                                                                                                                      thats at planet fitness   \n",
       "13009878                                                                                                                                                                                                                                                                                                                                                                                                                                                                                                                          pretty popular here in s california since last week   \n",
       "\n",
       "          mbti  \n",
       "41652     ESTP  \n",
       "105501    ESTP  \n",
       "110497    ESTP  \n",
       "119177    ESTP  \n",
       "217609    ESTP  \n",
       "...        ...  \n",
       "12721346  ESTP  \n",
       "12878532  ESTP  \n",
       "12890957  ESTP  \n",
       "12924264  ESTP  \n",
       "13009878  ESTP  \n",
       "\n",
       "[272 rows x 3 columns]"
      ]
     },
     "execution_count": 49,
     "metadata": {},
     "output_type": "execute_result"
    }
   ],
   "source": [
    "# check if '820131' exists in author column or reddit_df display those rows\n",
    "reddit_df[reddit_df['author'].str.contains('820131')]\n",
    "\n"
   ]
  }
 ],
 "metadata": {
  "kernelspec": {
   "display_name": "Python (riverline)",
   "language": "python",
   "name": "riverline"
  },
  "language_info": {
   "codemirror_mode": {
    "name": "ipython",
    "version": 3
   },
   "file_extension": ".py",
   "mimetype": "text/x-python",
   "name": "python",
   "nbconvert_exporter": "python",
   "pygments_lexer": "ipython3",
   "version": "3.13.2"
  }
 },
 "nbformat": 4,
 "nbformat_minor": 5
}
